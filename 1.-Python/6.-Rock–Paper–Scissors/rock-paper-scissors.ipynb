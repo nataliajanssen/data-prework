{
 "cells": [
  {
   "cell_type": "markdown",
   "metadata": {},
   "source": [
    "<img src=\"https://bit.ly/2VnXWr2\" width=\"100\" align=\"left\">"
   ]
  },
  {
   "cell_type": "markdown",
   "metadata": {},
   "source": [
    "# Rock, Paper & Scissors\n",
    "\n",
    "Let's play the famous game against our computer. You can check the rules [here](https://en.wikipedia.org/wiki/Rock%E2%80%93paper%E2%80%93scissors). \n",
    "\n",
    "## Task\n",
    "Create a program that imitates the playability of the well known game of rock, paper, scissors. Follow the guidelines provided.\n",
    "\n",
    "## Tools\n",
    "1. Loop: **for/while**\n",
    "2. Functions: **input(), print()...**\n",
    "3. Conditional statements: **if, elif, else**\n",
    "4. Definition of functions. Modular programming\n",
    "5. Import modules\n",
    "\n",
    "**To solve this challenge, the use of functions is recommended.**\n",
    "\n",
    "#### 1. Import the choice function of the random module."
   ]
  },
  {
   "cell_type": "code",
   "execution_count": 14,
   "metadata": {},
   "outputs": [],
   "source": [
    "import random\n",
    "\n"
   ]
  },
  {
   "cell_type": "markdown",
   "metadata": {},
   "source": [
    "#### 2. Create a list that includes the 3 possible gesture options of the game: 'rock', 'paper' or 'scissors'. Store the list in a variable called `gestures`."
   ]
  },
  {
   "cell_type": "code",
   "execution_count": 15,
   "metadata": {},
   "outputs": [],
   "source": [
    "gestures = [\"rock\",\"paper\",\"scissors\"]\n"
   ]
  },
  {
   "cell_type": "markdown",
   "metadata": {},
   "source": [
    "#### 3. Create a variable called `n_rounds` to store the maximum number of rounds to play in a game. \n",
    "Remember that the number of rounds must be odd: 1, 3, 5, ..."
   ]
  },
  {
   "cell_type": "code",
   "execution_count": 16,
   "metadata": {},
   "outputs": [
    {
     "name": "stdout",
     "output_type": "stream",
     "text": [
      "How many rounds do you want to play? Remember that the number of rounds must be odd.3\n",
      "You will play 3 rounds.\n"
     ]
    }
   ],
   "source": [
    "n_rounds= int(input(\"How many rounds do you want to play? Remember that the number of rounds must be odd.\"))\n",
    "\n",
    "\n",
    "if (n_rounds %2) == 0:\n",
    "    print(\"This isn't a valid option. Introduce an odd number\")\n",
    "    n_rounds= int(input(\"Please introduce an odd number.\"))\n",
    "    print(\"You will play\", n_rounds, \"rounds.\")\n",
    "else:\n",
    "    print(\"You will play\", n_rounds, \"rounds.\")\n"
   ]
  },
  {
   "cell_type": "markdown",
   "metadata": {},
   "source": [
    "#### 4. Create a variable called `rounds_to_win` to store the number of rounds that a player must win to win the game.\n",
    "**Hint**: the value stored in `rounds_to_win` depends on the value of `n_rounds`. "
   ]
  },
  {
   "cell_type": "code",
   "execution_count": 17,
   "metadata": {},
   "outputs": [],
   "source": [
    "rounds_to_win = n_rounds"
   ]
  },
  {
   "cell_type": "markdown",
   "metadata": {},
   "source": [
    "#### 5. Create two variables to store the number of rounds that the computer and the player have won. Call these variables `cpu_score` and `player_score`."
   ]
  },
  {
   "cell_type": "code",
   "execution_count": 18,
   "metadata": {},
   "outputs": [],
   "source": [
    "cpu_score= 0\n",
    "player_score= 0\n",
    "rounds=0"
   ]
  },
  {
   "cell_type": "markdown",
   "metadata": {},
   "source": [
    "#### 6. Define a function that randomly returns one of the 3 gesture options.\n",
    "You will use this function to simulate the gesture choice of the computer. "
   ]
  },
  {
   "cell_type": "code",
   "execution_count": 19,
   "metadata": {},
   "outputs": [
    {
     "data": {
      "text/plain": [
       "'paper'"
      ]
     },
     "execution_count": 19,
     "metadata": {},
     "output_type": "execute_result"
    }
   ],
   "source": [
    "random_index = random.randint(0,2)\n",
    "cpu_choice = gestures[random_index]\n",
    "cpu_choice"
   ]
  },
  {
   "cell_type": "markdown",
   "metadata": {},
   "source": [
    "#### 7. Define a function that asks the player which is the gesture he or she wants to show: 'rock', 'paper' or 'scissors'.\n",
    "The player should only be allowed to choose one of the 3 gesture options. If the player's choice is not rock, paper or scissors, keep asking until it is."
   ]
  },
  {
   "cell_type": "code",
   "execution_count": 20,
   "metadata": {},
   "outputs": [
    {
     "name": "stdout",
     "output_type": "stream",
     "text": [
      "Rock, Paper or Scissors?. Please, choose one of these 3 gesture options and type your choice.rock\n",
      "\n",
      "Your choice is: rock\n"
     ]
    }
   ],
   "source": [
    "user_choice = input(\"Rock, Paper or Scissors?. Please, choose one of these 3 gesture options and type your choice.\").lower()\n",
    "while user_choice not in gestures:\n",
    "    user_choice = input(\"That is not a valid choice. Please try again: \").lower()\n",
    "\n",
    "print()\n",
    "print(\"Your choice is:\", user_choice)\n"
   ]
  },
  {
   "cell_type": "markdown",
   "metadata": {},
   "source": [
    "#### 8. Define a function that checks who won a round. \n",
    "The function should return 0 if there is a tie, 1 if the computer wins and 2 if the player wins."
   ]
  },
  {
   "cell_type": "code",
   "execution_count": 21,
   "metadata": {},
   "outputs": [
    {
     "data": {
      "text/plain": [
       "1"
      ]
     },
     "execution_count": 21,
     "metadata": {},
     "output_type": "execute_result"
    }
   ],
   "source": [
    "winner_function=0\n",
    "\n",
    "if user_choice == \"rock\":\n",
    "    if cpu_choice ==\"rock\":\n",
    "        winner_function +=0\n",
    "    elif cpu_choice ==\"paper\":\n",
    "        winner_function +=1\n",
    "    elif cpu_choice ==\"scissors\":\n",
    "        winner_function+=2\n",
    "\n",
    "elif user_choice ==\"paper\":\n",
    "    if cpu_choice ==\"paper\":\n",
    "        winner_function +=0\n",
    "    elif cpu_choice == \"rock\":\n",
    "        winner_function +=2\n",
    "    elif cpu_choice == \"scissors\":\n",
    "        winner_function +=1\n",
    "\n",
    "elif user_choice ==\"scissors\":\n",
    "    if cpu_choice ==\"scissors\":\n",
    "        winner_function +=0\n",
    "    elif cpu_choice == \"rock\":\n",
    "        winner_function +=1\n",
    "    elif cpu_choice == \"paper\":\n",
    "        winner_function +=2\n",
    "    \n",
    "winner_function\n",
    "\n",
    "    "
   ]
  },
  {
   "cell_type": "markdown",
   "metadata": {},
   "source": [
    "#### 9. Define a function that prints the choice of the computer, the choice of the player and a message that announces who won the current round. \n",
    "You should also use this function to update the variables that count the number of rounds that the computer and the player have won. The score of the winner increases by one point. If there is a tie, the score does not increase."
   ]
  },
  {
   "cell_type": "code",
   "execution_count": 22,
   "metadata": {},
   "outputs": [
    {
     "name": "stdout",
     "output_type": "stream",
     "text": [
      "Your choice is: rock\n",
      "Computer's choice is: paper\n",
      "\n",
      "YOU LOSE THIS ROUND!\n",
      "0 - 1\n"
     ]
    }
   ],
   "source": [
    "print(\"Your choice is:\", user_choice)\n",
    "print(\"Computer's choice is:\", cpu_choice)\n",
    "print()\n",
    "\n",
    "if user_choice == 'rock':\n",
    "    if cpu_choice == 'rock':\n",
    "        print(\"IT'A A TIE!\")\n",
    "            \n",
    "    elif cpu_choice == 'scissors':\n",
    "        print(\"YOU WIN THIS ROUND!\")\n",
    "        player_score+=1\n",
    "            \n",
    "    elif cpu_choice == 'paper':\n",
    "        print(\"YOU LOSE THIS ROUND!\")\n",
    "        cpu_score+=1\n",
    "            \n",
    "            \n",
    "elif user_choice == 'paper':\n",
    "    if cpu_choice == 'paper':\n",
    "        print(\"IT'S A TIE!\")\n",
    "            \n",
    "    elif cpu_choice == 'rock':\n",
    "        print(\"YOU WIN THIS ROUND!\")\n",
    "        player_score+=1\n",
    "            \n",
    "    elif cpu_choice == 'scissors':\n",
    "        print(\"YOU LOSE THIS ROUND!\")\n",
    "        cpu_score+=1\n",
    "            \n",
    "            \n",
    "elif user_choice == 'scissors':\n",
    "    if cpu_choice == 'scissors':\n",
    "        print(\"IT'S A TIE!\")\n",
    "            \n",
    "    elif cpu_choice == 'paper':\n",
    "        print(\"YOU WIN THIS ROUND!\")\n",
    "        player_score+=1\n",
    "            \n",
    "    elif cpu_choice == 'rock':\n",
    "        print(\"YOU LOSE THIS ROUND!\")\n",
    "        cpu_score+=1\n",
    "\n",
    "print(player_score,\"-\",cpu_score)"
   ]
  },
  {
   "cell_type": "markdown",
   "metadata": {},
   "source": [
    "#### 10. Now it's time to code the execution of the game using the functions and variables you defined above. \n",
    "\n",
    "First, create a loop structure that repeats while no player reaches the minimum score necessary to win and the number of rounds is less than the maximum number of rounds to play in a game.  \n",
    "\n",
    "Inside the loop, use the functions and variables above to create the execution of a round: ask for the player's choice, generate the random choice of the computer, show the round results, update the scores, etc. "
   ]
  },
  {
   "cell_type": "code",
   "execution_count": 24,
   "metadata": {},
   "outputs": [
    {
     "name": "stdout",
     "output_type": "stream",
     "text": [
      "Welcome to Rock, Paper, Scissors!\n",
      "How many rounds do you want to play? Remember that the number of rounds must be odd.3\n",
      "You will play 3 rounds.\n",
      "*Rock, Paper or Scissors?. Please, choose one of these 3 gesture options and type your choice.rock\n",
      "\n",
      "Your choice is: rock\n",
      "Computer's choice is: rock\n",
      "\n",
      "IT'A A TIE!\n",
      "\n",
      "You won 0 rounds\n",
      "The computer won 0 rounds\n",
      "\n",
      "*Rock, Paper or Scissors?. Please, choose one of these 3 gesture options and type your choice.paper\n",
      "\n",
      "Your choice is: paper\n",
      "Computer's choice is: scissors\n",
      "\n",
      "YOU LOSE THIS ROUND!\n",
      "\n",
      "You won 0 rounds\n",
      "The computer won 1 rounds\n",
      "\n",
      "*Rock, Paper or Scissors?. Please, choose one of these 3 gesture options and type your choice.rock\n",
      "\n",
      "Your choice is: rock\n",
      "Computer's choice is: scissors\n",
      "\n",
      "YOU WIN THIS ROUND!\n",
      "\n",
      "You won 1 rounds\n",
      "The computer won 1 rounds\n",
      "\n"
     ]
    }
   ],
   "source": [
    "import random\n",
    "\n",
    "\n",
    "print(\"Welcome to Rock, Paper, Scissors!\")\n",
    "player_score= 0\n",
    "cpu_score = 0\n",
    "rounds = 0\n",
    "\n",
    "gestures = [\"rock\", \"paper\", \"scissors\"]\n",
    "\n",
    "\n",
    "n_rounds= int(input(\"How many rounds do you want to play? Remember that the number of rounds must be odd.\"))\n",
    "\n",
    "\n",
    "if (n_rounds %2) == 0:\n",
    "    print(\"This isn't a valid option. Introduce an odd number\")\n",
    "    n_rounds= int(input(\"Please introduce an odd number.\"))\n",
    "    print(\"You will play\", n_rounds, \"rounds.\")\n",
    "else:\n",
    "    print(\"You will play\", n_rounds, \"rounds.\")\n",
    "    \n",
    "\n",
    "while rounds < n_rounds:\n",
    "    random_index = random.randint(0,2)\n",
    "    cpu_choice = gestures[random_index]\n",
    "\n",
    "    user_choice = input(\"*Rock, Paper or Scissors?. Please, choose one of these 3 gesture options and type your choice.\").lower()\n",
    "    while user_choice not in gestures:\n",
    "        user_choice = input(\"That is not a valid choice. Please try again: \").lower()\n",
    "  \n",
    "    print()\n",
    "    print(\"Your choice is:\", user_choice)\n",
    "    print(\"Computer's choice is:\", cpu_choice)\n",
    "    print()\n",
    "\n",
    "    if user_choice == 'rock':\n",
    "        if cpu_choice == 'rock':\n",
    "            print(\"IT'A A TIE!\")\n",
    "            rounds +=1\n",
    "            \n",
    "        elif cpu_choice == 'scissors':\n",
    "            print(\"YOU WIN THIS ROUND!\")\n",
    "            player_score+=1\n",
    "            rounds +=1\n",
    "            \n",
    "        elif cpu_choice == 'paper':\n",
    "            print(\"YOU LOSE THIS ROUND!\")\n",
    "            cpu_score+=1\n",
    "            rounds +=1\n",
    "            \n",
    "            \n",
    "    elif user_choice == 'paper':\n",
    "        if cpu_choice == 'paper':\n",
    "            print(\"IT'S A TIE!\")\n",
    "            rounds +=1\n",
    "            \n",
    "        elif cpu_choice == 'rock':\n",
    "            print(\"YOU WIN THIS ROUND!\")\n",
    "            player_score+=1\n",
    "            rounds +=1\n",
    "            \n",
    "        elif cpu_choice == 'scissors':\n",
    "            print(\"YOU LOSE THIS ROUND!\")\n",
    "            cpu_score+=1\n",
    "            rounds +=1\n",
    "            \n",
    "            \n",
    "    elif user_choice == 'scissors':\n",
    "        if cpu_choice == 'scissors':\n",
    "            print(\"IT'S A TIE!\")\n",
    "            rounds +=1\n",
    "            \n",
    "        elif cpu_choice == 'paper':\n",
    "            print(\"YOU WIN THIS ROUND!\")\n",
    "            player_score+=1\n",
    "            rounds +=1\n",
    "            \n",
    "        elif cpu_choice == 'rock':\n",
    "            print(\"YOU LOSE THIS ROUND!\")\n",
    "            cpu_score+=1\n",
    "            rounds +=1\n",
    "    \n",
    "\n",
    "\n",
    "\n",
    "    print()\n",
    "    print(\"You won \"+str(player_score)+\" rounds\")\n",
    "    print(\"The computer won \"+str(cpu_score)+\" rounds\")\n",
    "    print()\n",
    "\n",
    "\n",
    "\n",
    "\n",
    "        \n",
    "    \n",
    "\n"
   ]
  },
  {
   "cell_type": "markdown",
   "metadata": {},
   "source": [
    "#### 11. Print the winner of the game based on who won more rounds.\n",
    "Remember that the game might be tied. "
   ]
  },
  {
   "cell_type": "code",
   "execution_count": 25,
   "metadata": {},
   "outputs": [
    {
     "name": "stdout",
     "output_type": "stream",
     "text": [
      "1 - 1\n",
      "IT IS A TIE!!\n"
     ]
    }
   ],
   "source": [
    "print(player_score,\"-\",cpu_score)\n",
    "\n",
    "if str(player_score) > str(cpu_score):\n",
    "    print(\"YOU ARE THE WINNER!\")\n",
    "elif str(cpu_score)<str(player_score):\n",
    "    print(\"THE PC IS THE WINNER!\")\n",
    "elif str(cpu_score)==str(player_score):\n",
    "    print(\"IT IS A TIE!!\")\n",
    "    \n",
    "\n",
    "    "
   ]
  },
  {
   "cell_type": "markdown",
   "metadata": {},
   "source": [
    "# Bonus: Rock, Paper, Scissors, Lizard & Spock\n",
    "![](images/rpsls.jpg)\n",
    "\n",
    "In this challenge, you need to improve the previous game by adding two new options. To know more about the rules of the improved version of rock, paper, scissors, check this [link](http://www.samkass.com/theories/RPSSL.html). \n",
    "\n",
    "In addition, you will also need to improve how the game interacts with the player: the number of rounds to play, which must be an odd number, will be requested to the user until a valid number is entered. Define a new function to make that request.\n",
    "\n",
    "**Hint**: Try to reuse the code that you already coded in the previous challenge. If your code is efficient, this bonus will only consist of simple modifications to the original game."
   ]
  },
  {
   "cell_type": "code",
   "execution_count": 26,
   "metadata": {},
   "outputs": [
    {
     "name": "stdout",
     "output_type": "stream",
     "text": [
      "Welcome to Rock, Paper, Scissors, Lizard & Spock!\n",
      "How many rounds do you want to play? Remember that the number of rounds must be odd.3\n",
      "You will play 3 rounds.\n",
      "Rock, Paper, Scissors, Lizard or Spock?. Please, choose one of these 5 gesture options and type your choice.rock\n",
      "\n",
      "Your choice is: rock\n",
      "Computer's choice is: paper\n",
      "\n",
      "YOU LOSE THIS ROUND!\n",
      "\n",
      "You won 0 rounds\n",
      "The computer won 1 rounds\n",
      "\n",
      "Rock, Paper, Scissors, Lizard or Spock?. Please, choose one of these 5 gesture options and type your choice.paper\n",
      "\n",
      "Your choice is: paper\n",
      "Computer's choice is: paper\n",
      "\n",
      "IT'S A TIE!\n",
      "\n",
      "You won 0 rounds\n",
      "The computer won 1 rounds\n",
      "\n",
      "Rock, Paper, Scissors, Lizard or Spock?. Please, choose one of these 5 gesture options and type your choice.rock\n",
      "\n",
      "Your choice is: rock\n",
      "Computer's choice is: rock\n",
      "\n",
      "IT'A A TIE!\n",
      "\n",
      "You won 0 rounds\n",
      "The computer won 1 rounds\n",
      "\n"
     ]
    }
   ],
   "source": [
    "import random\n",
    "\n",
    "\n",
    "print(\"Welcome to Rock, Paper, Scissors, Lizard & Spock!\")\n",
    "player_score= 0\n",
    "cpu_score = 0\n",
    "rounds = 0\n",
    "\n",
    "gestures = [\"rock\", \"paper\", \"scissors\", \"lizard\", \"spock\"]\n",
    "\n",
    "\n",
    "n_rounds= int(input(\"How many rounds do you want to play? Remember that the number of rounds must be odd.\"))\n",
    "\n",
    "\n",
    "if (n_rounds %2) == 0:\n",
    "    print(\"This isn't a valid option. Introduce an odd number\")\n",
    "    n_rounds= int(input(\"Please introduce an odd number.\"))\n",
    "    print(\"You will play\", n_rounds, \"rounds.\")\n",
    "else:\n",
    "    print(\"You will play\", n_rounds, \"rounds.\")\n",
    "    \n",
    "\n",
    "while rounds < n_rounds:\n",
    "    random_index = random.randint(0,4)\n",
    "    cpu_choice = gestures[random_index]\n",
    "\n",
    "    user_choice = input(\"Rock, Paper, Scissors, Lizard or Spock?. Please, choose one of these 5 gesture options and type your choice.\").lower()\n",
    "    while user_choice not in gestures:\n",
    "        user_choice = input(\"That is not a valid choice. Please try again: \").lower()\n",
    "  \n",
    "    print()\n",
    "    print(\"Your choice is:\", user_choice)\n",
    "    print(\"Computer's choice is:\", cpu_choice)\n",
    "    print()\n",
    "\n",
    "    if user_choice == 'rock':\n",
    "        if cpu_choice == 'rock':\n",
    "            print(\"IT'A A TIE!\")\n",
    "            \n",
    "        elif cpu_choice == 'scissors':\n",
    "            print(\"YOU WIN THIS ROUND!\")\n",
    "            player_score+=1\n",
    "            \n",
    "        elif cpu_choice == 'paper':\n",
    "            print(\"YOU LOSE THIS ROUND!\")\n",
    "            cpu_score+=1\n",
    "            \n",
    "        elif cpu_choice == 'lizard':\n",
    "            print(\"YOU WIN THIS ROUND\")\n",
    "            player_score +=1\n",
    "       \n",
    "        elif cpu_choice =='spock':\n",
    "            print(\"YOU LOSE THIS ROUND\")\n",
    "            cpu_score+=1\n",
    "            \n",
    "            \n",
    "    elif user_choice == 'paper':\n",
    "        if cpu_choice == 'paper':\n",
    "            print(\"IT'S A TIE!\")\n",
    "            \n",
    "        elif cpu_choice == 'rock':\n",
    "            print(\"YOU WIN THIS ROUND!\")\n",
    "            player_score+=1\n",
    "            \n",
    "        elif cpu_choice == 'scissors':\n",
    "            print(\"YOU LOSE THIS ROUND!\")\n",
    "            cpu_score+=1\n",
    "        \n",
    "        elif cpu_choice == 'lizard':\n",
    "            print(\"YOU LOSE THIS ROUND\")\n",
    "            cpu_score +=1\n",
    "       \n",
    "        elif cpu_choice =='spock':\n",
    "            print(\"YOU WIN THIS ROUND\")\n",
    "            player_score+=1\n",
    "            \n",
    "            \n",
    "    elif user_choice == 'scissors':\n",
    "        if cpu_choice == 'scissors':\n",
    "            print(\"IT'S A TIE!\")\n",
    "            \n",
    "        elif cpu_choice == 'paper':\n",
    "            print(\"YOU WIN THIS ROUND!\")\n",
    "            player_score+=1\n",
    "            \n",
    "        elif cpu_choice == 'rock':\n",
    "            print(\"YOU LOSE THIS ROUND!\")\n",
    "            cpu_score+=1\n",
    "            \n",
    "        elif cpu_choice == 'lizard':\n",
    "            print(\"YOU WIN THIS ROUND\")\n",
    "            player_score +=1\n",
    "       \n",
    "        elif cpu_choice =='spock':\n",
    "            print(\"YOU LOSE THIS ROUND\")\n",
    "            cpu_score+=1\n",
    "        \n",
    "    elif user_choice == 'lizard':\n",
    "        if cpu_choice == 'lizard':\n",
    "            print(\"IT'S A TIE!\")\n",
    "            \n",
    "        elif cpu_choice == 'paper':\n",
    "            print(\"YOU WIN THIS ROUND!\")\n",
    "            player_score+=1\n",
    "            \n",
    "        elif cpu_choice == 'rock':\n",
    "            print(\"YOU LOSE THIS ROUND!\")\n",
    "            cpu_score+=1\n",
    "            \n",
    "        elif cpu_choice == 'scissors':\n",
    "            print(\"YOU LOSE THIS ROUND\")\n",
    "            cpu_score +=1\n",
    "       \n",
    "        elif cpu_choice =='spock':\n",
    "            print(\"YOU WIN THIS ROUND\")\n",
    "            player_score+=1\n",
    "    \n",
    "    elif user_choice == 'spock':\n",
    "        if cpu_choice == 'spock':\n",
    "            print(\"IT'S A TIE!\")\n",
    "            \n",
    "        elif cpu_choice == 'paper':\n",
    "            print(\"YOU LOSE THIS ROUND!\")\n",
    "            cpu_score+=1\n",
    "            \n",
    "        elif cpu_choice == 'rock':\n",
    "            print(\"YOU WIN THIS ROUND!\")\n",
    "            player_score+=1\n",
    "            \n",
    "        elif cpu_choice == 'scissors':\n",
    "            print(\"YOU WIN THIS ROUND\")\n",
    "            player_score +=1\n",
    "       \n",
    "        elif cpu_choice =='lizard':\n",
    "            print(\"YOU LOSE THIS ROUND\")\n",
    "            cpu_score+=1\n",
    "    \n",
    "    rounds +=1\n",
    "\n",
    "\n",
    "    print()\n",
    "    print(\"You won \"+str(player_score)+\" rounds\")\n",
    "    print(\"The computer won \"+str(cpu_score)+\" rounds\")\n",
    "    print()\n",
    "    \n",
    "\n",
    "\n",
    " "
   ]
  },
  {
   "cell_type": "code",
   "execution_count": 28,
   "metadata": {},
   "outputs": [
    {
     "name": "stdout",
     "output_type": "stream",
     "text": [
      "0 - 1\n"
     ]
    }
   ],
   "source": [
    "print(player_score,\"-\",cpu_score)\n",
    "\n",
    "if str(player_score) > str(cpu_score):\n",
    "    print(\"YOU ARE THE WINNER!\")\n",
    "elif str(cpu_score)<str(player_score):\n",
    "    print(\"THE PC IS THE WINNER!\")\n",
    "elif str(cpu_score)==str(player_score):\n",
    "    print(\"IT IS A TIE!!\")\n",
    "    \n"
   ]
  },
  {
   "cell_type": "raw",
   "metadata": {},
   "source": []
  }
 ],
 "metadata": {
  "kernelspec": {
   "display_name": "Python 3",
   "language": "python",
   "name": "python3"
  },
  "language_info": {
   "codemirror_mode": {
    "name": "ipython",
    "version": 3
   },
   "file_extension": ".py",
   "mimetype": "text/x-python",
   "name": "python",
   "nbconvert_exporter": "python",
   "pygments_lexer": "ipython3",
   "version": "3.9.1"
  }
 },
 "nbformat": 4,
 "nbformat_minor": 2
}

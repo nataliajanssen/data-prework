{
 "cells": [
  {
   "cell_type": "markdown",
   "metadata": {},
   "source": [
    "<img src=\"https://bit.ly/2VnXWr2\" width=\"100\" align=\"left\">"
   ]
  },
  {
   "cell_type": "markdown",
   "metadata": {},
   "source": [
    "# Temperature Sensor\n",
    "\n",
    "There is a temperature sensor in the processor of your company's server. The company wants to analyze the data provided by the sensor to decide if they should change the cooling system for a better one. As changing the cooling system is expensive and you are an excellent data analyst, you can't make a decision without basis.\n",
    "\n",
    "## Tools\n",
    "You don't necessarily need to use all the tools. Maybe you opt to use some of them or completely different ones, they are given to help you shape the exercise. Programming exercises can be solved in many different ways.\n",
    "1. Data structures: **lists**\n",
    "2. Loops: **list comprehension**\n",
    "3. Functions: **min, max, print, len**\n",
    "4. Conditional statements: **if-elif-else**\n",
    "\n",
    "## Tasks\n",
    "The temperatures measured throughout the 24 hours of a day are:"
   ]
  },
  {
   "cell_type": "code",
   "execution_count": 1,
   "metadata": {},
   "outputs": [],
   "source": [
    "temperatures_C = [33, 66, 65, 0, 59, 60, 62, 64, 70, 76, 80, 81, 80, 83, 90, 79, 61, 53, 50, 49, 53, 48, 45, 39]"
   ]
  },
  {
   "cell_type": "markdown",
   "metadata": {},
   "source": [
    "The first element of the list is the temperature at 12am, the second element is the temperature at 1am, and so on. \n",
    "\n",
    "The company has decided that if one of the following events occurs, then the cooling system needs to be replaced for a new one to avoid damaging the processor.\n",
    "* More than 4 temperatures are greater than or equal to 70ºC.\n",
    "* Any temperature is above 80ºC.\n",
    "* The average temperature exceeds 65ºC.\n",
    "\n",
    "Follow the steps so that you can make the decision.\n",
    "\n",
    "#### 1. Find the minimum temperature of the day and store it in a variable."
   ]
  },
  {
   "cell_type": "code",
   "execution_count": 2,
   "metadata": {},
   "outputs": [
    {
     "name": "stdout",
     "output_type": "stream",
     "text": [
      "0\n"
     ]
    }
   ],
   "source": [
    "minimum_temperature = min(temperatures_C)\n",
    "print(minimum_temperature)"
   ]
  },
  {
   "cell_type": "markdown",
   "metadata": {},
   "source": [
    "#### 2. Find the maximum temperature of the day and store it in a variable."
   ]
  },
  {
   "cell_type": "code",
   "execution_count": 3,
   "metadata": {},
   "outputs": [
    {
     "name": "stdout",
     "output_type": "stream",
     "text": [
      "90\n"
     ]
    }
   ],
   "source": [
    "maximum_temperature = max(temperatures_C)\n",
    "print(maximum_temperature)"
   ]
  },
  {
   "cell_type": "markdown",
   "metadata": {},
   "source": [
    "#### 3. Create a list with the temperatures that are greater than or equal to 70ºC. Store it in a variable."
   ]
  },
  {
   "cell_type": "code",
   "execution_count": 4,
   "metadata": {},
   "outputs": [
    {
     "data": {
      "text/plain": [
       "[70, 76, 80, 81, 80, 83, 90, 79]"
      ]
     },
     "execution_count": 4,
     "metadata": {},
     "output_type": "execute_result"
    }
   ],
   "source": [
    "high_temperatures=[]\n",
    "for temperature in temperatures_C:\n",
    "    if temperature >= 70:\n",
    "        high_temperatures.append(temperature)\n",
    "high_temperatures\n"
   ]
  },
  {
   "cell_type": "markdown",
   "metadata": {},
   "source": [
    "#### 4. Find the average temperature of the day and store it in a variable."
   ]
  },
  {
   "cell_type": "code",
   "execution_count": 5,
   "metadata": {},
   "outputs": [
    {
     "data": {
      "text/plain": [
       "60.25"
      ]
     },
     "execution_count": 5,
     "metadata": {},
     "output_type": "execute_result"
    }
   ],
   "source": [
    "avg_temperatures = sum(temperatures_C)/len(temperatures_C)\n",
    "avg_temperatures"
   ]
  },
  {
   "cell_type": "markdown",
   "metadata": {},
   "source": [
    "#### 5. Imagine that there was a sensor failure at 3am and the data for that specific hour was not recorded. How would you estimate the missing value? Replace the current value of the list at 3am for an estimation. "
   ]
  },
  {
   "cell_type": "code",
   "execution_count": 6,
   "metadata": {},
   "outputs": [
    {
     "name": "stdout",
     "output_type": "stream",
     "text": [
      "The new average is 62.869565217391305\n",
      "[33, 66, 65, 62.869565217391305, 59, 60, 62, 64, 70, 76, 80, 81, 80, 83, 90, 79, 61, 53, 50, 49, 53, 48, 45, 39]\n"
     ]
    }
   ],
   "source": [
    "#we delete the missing value:\n",
    "temperatures_C.remove(0)\n",
    "#we find a new average (not including the missing value):\n",
    "avg_temperatures2 = sum(temperatures_C)/len(temperatures_C)\n",
    "print(\"The new average is\", avg_temperatures2)\n",
    "#we add this value to the list (in the same position)\n",
    "temperatures_C.insert(3, float(avg_temperatures2))\n",
    "print(temperatures_C)"
   ]
  },
  {
   "cell_type": "markdown",
   "metadata": {},
   "source": [
    "#### 6. Bonus: the maintenance staff is from the United States and does not understand the international metric system. Help them by converting the temperatures from Celsius to Fahrenheit.\n",
    "To know more about temperature conversion check this [link](https://en.wikipedia.org/wiki/Conversion_of_units_of_temperature).\n",
    "\n",
    "**Formula**: \n",
    "\n",
    "$F = 1.8 * C + 32$"
   ]
  },
  {
   "cell_type": "code",
   "execution_count": 7,
   "metadata": {},
   "outputs": [
    {
     "name": "stdout",
     "output_type": "stream",
     "text": [
      "[91.4, 150.8, 149.0, 145.16521739130434, 138.2, 140.0, 143.60000000000002, 147.2, 158.0, 168.8, 176.0, 177.8, 176.0, 181.4, 194.0, 174.20000000000002, 141.8, 127.4, 122.0, 120.2, 127.4, 118.4, 113.0, 102.2]\n"
     ]
    }
   ],
   "source": [
    "fahrenheit_temperature= []\n",
    "for temperature in temperatures_C:\n",
    "    f = temperature * 1.8\n",
    "    f= f + 32\n",
    "    fahrenheit_temperature.append(f)\n",
    "print(fahrenheit_temperature)"
   ]
  },
  {
   "cell_type": "markdown",
   "metadata": {},
   "source": [
    "#### 7. Make a decision!\n",
    "Now it's time to make a decision taking into account what you have seen until now. \n",
    "\n",
    "Remember that if one of the following events occurs, then the cooling system needs to be replaced for a new one to avoid damaging the processor.\n",
    "* More than 4 temperatures are greater than or equal to 70ºC.\n",
    "* Any temperature is above 80ºC.\n",
    "* The average temperature exceeds 65ºC.\n",
    "\n",
    "#### To make your decision, check if any of the three conditions above is met. You might need to use some of the variables you created in steps 1 to 6. Print a message to show if the cooling system needs to be changed or not."
   ]
  },
  {
   "cell_type": "code",
   "execution_count": 8,
   "metadata": {},
   "outputs": [
    {
     "name": "stdout",
     "output_type": "stream",
     "text": [
      "The cooling system needs to be changed\n"
     ]
    }
   ],
   "source": [
    "reparation = 0\n",
    "avg_temperature= sum(temperatures_C)/len(temperatures_C)\n",
    "\n",
    "for temperature in temperatures_C:\n",
    "    if temperature > 80 or avg_temperature > 65 or sum(temperature >=4 for temperature in temperatures_C) >= 70:\n",
    "        reparation +=1\n",
    "\n",
    "if reparation >=1:\n",
    "    print(\"The cooling system needs to be changed\")\n",
    "     \n",
    "\n",
    "\n",
    "\n"
   ]
  },
  {
   "cell_type": "markdown",
   "metadata": {},
   "source": [
    "## Bonus\n",
    "\n",
    "The company has decided that the decision you made is not valid. They want you to analyze the data again but this time, the conditions that need to be met in order to change the cooling system are different.\n",
    "\n",
    "This time, if one of the following events occurs, then the cooling system needs to be replaced:\n",
    "* The temperature is greater than 70ºC during more than 4 consecutive hours.\n",
    "* Any temperature is above 80ºC.\n",
    "* The average temperature exceeds 65ºC.\n",
    "\n",
    "Follow the steps so that you can make the decision.\n",
    "\n",
    "#### 1. Create a list with the hours where the temperature is greater than 70ºC. Store it in a variable."
   ]
  },
  {
   "cell_type": "code",
   "execution_count": 9,
   "metadata": {},
   "outputs": [
    {
     "name": "stdout",
     "output_type": "stream",
     "text": [
      "[76, 80, 81, 80, 83, 90, 79]\n",
      "[9, 10, 11, 12, 13, 14, 15]\n"
     ]
    }
   ],
   "source": [
    "hours_high=[]\n",
    "temperatures_high=[]\n",
    "temperatures_C\n",
    "hours=[0,1,2,3,4,5,6,7,8,9,10,11,12,13,14,15,16,17,18,19,20,21,22,23]\n",
    "\n",
    "zip_values= zip(hours, temperatures_C)\n",
    "a_dictionary=dict(zip_values)\n",
    "\n",
    "\n",
    "for hours,temperatures in a_dictionary.items():\n",
    "        if temperatures > 70:\n",
    "            temperatures_high.append(temperatures)\n",
    "            hours_high.append(hours)\n",
    "print(temperatures_high)\n",
    "print(hours_high)\n",
    "\n",
    "     "
   ]
  },
  {
   "cell_type": "markdown",
   "metadata": {},
   "source": [
    "#### 2. Check if the list you created in step 1 has more than 4 consecutive hours. "
   ]
  },
  {
   "cell_type": "code",
   "execution_count": 10,
   "metadata": {},
   "outputs": [
    {
     "name": "stdout",
     "output_type": "stream",
     "text": [
      "The list [9, 10, 11, 12, 13, 14, 15] contains more than 4 consecutive hours.\n"
     ]
    }
   ],
   "source": [
    "hours_high=[9,10,11,12,13,14,15]\n",
    "y = sorted(hours_high)\n",
    "consecutive_hours = 1\n",
    "\n",
    "for i in range(0, len(y)):\n",
    "        j = i + 1\n",
    "        if j >= len(y):\n",
    "            break\n",
    "        if y[j] == y[i] + 1:\n",
    "            consecutive_hours += 1\n",
    "        elif consecutive_hours > 4:\n",
    "            break\n",
    "        else:\n",
    "            consecutive_hours = 1\n",
    "\n",
    "if consecutive_hours > 4:\n",
    "    print(\"The list\", hours_high, \"contains more than 4 consecutive hours.\")\n",
    "else:\n",
    "    print(\"The list\",hours_high, \"does not contain more than 4 consecutive hours.\")\n"
   ]
  },
  {
   "cell_type": "markdown",
   "metadata": {},
   "source": [
    "#### 3. Make the decision!\n",
    "To make your decision, check if any of the three conditions is met. Print a message to show if the cooling system needs to be changed or not."
   ]
  },
  {
   "cell_type": "code",
   "execution_count": 11,
   "metadata": {},
   "outputs": [
    {
     "name": "stdout",
     "output_type": "stream",
     "text": [
      "The cooling system needs to be changed.\n"
     ]
    }
   ],
   "source": [
    "reparation_2 = 0\n",
    "avg_temperature= sum(temperatures_C)/len(temperatures_C)\n",
    "\n",
    "for temperature in temperatures_C:\n",
    "    if temperature > 80 or avg_temperature > 65 or (temperature > 70 and consecutive_hours>4):\n",
    "        reparation_2 +=1\n",
    "\n",
    "if reparation_2 >=1:\n",
    "    print(\"The cooling system needs to be changed.\")\n",
    "else:\n",
    "    print(\"The cooling system does not need to be changed.\")\n",
    "     \n",
    "\n",
    "\n",
    "\n",
    "        "
   ]
  },
  {
   "cell_type": "markdown",
   "metadata": {},
   "source": [
    "#### 4. Find the average value of the temperature lists (ºC and ºF). What is the relation between both average values?"
   ]
  },
  {
   "cell_type": "code",
   "execution_count": 12,
   "metadata": {},
   "outputs": [
    {
     "name": "stdout",
     "output_type": "stream",
     "text": [
      "The average temperature in ºC is 62.869565217391305\n",
      "The average temperature in ºF is 145.16521739130434\n"
     ]
    }
   ],
   "source": [
    "avg_celsius= sum(temperatures_C)/len(temperatures_C)\n",
    "print(\"The average temperature in ºC is\", avg_celsius)\n",
    "avg_fahrenheit = sum(fahrenheit_temperature) /len(fahrenheit_temperature)\n",
    "print(\"The average temperature in ºF is\",avg_fahrenheit)\n",
    "\n",
    "##The relation between these two values is based on the the formula 1,8*Cº+32."
   ]
  },
  {
   "cell_type": "markdown",
   "metadata": {},
   "source": [
    "#### 5. Find the standard deviation of the temperature lists (ºC and ºF). What is the relation between both standard deviations?"
   ]
  },
  {
   "cell_type": "code",
   "execution_count": 13,
   "metadata": {},
   "outputs": [
    {
     "name": "stdout",
     "output_type": "stream",
     "text": [
      "The standard deviation in ºC is: 14.632453507603362\n",
      "The standard deviation in ºF is: 26.338416313686054\n"
     ]
    }
   ],
   "source": [
    "import statistics as stats\n",
    "stats.pstdev(temperatures_C)\n",
    "print(\"The standard deviation in ºC is:\", stats.pstdev(temperatures_C))\n",
    "stats.pstdev(fahrenheit_temperature)\n",
    "print(\"The standard deviation in ºF is:\", stats.pstdev(fahrenheit_temperature))"
   ]
  }
 ],
 "metadata": {
  "kernelspec": {
   "display_name": "Python 3",
   "language": "python",
   "name": "python3"
  },
  "language_info": {
   "codemirror_mode": {
    "name": "ipython",
    "version": 3
   },
   "file_extension": ".py",
   "mimetype": "text/x-python",
   "name": "python",
   "nbconvert_exporter": "python",
   "pygments_lexer": "ipython3",
   "version": "3.9.1"
  }
 },
 "nbformat": 4,
 "nbformat_minor": 2
}
